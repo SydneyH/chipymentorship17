{
 "cells": [
  {
   "cell_type": "code",
   "execution_count": 14,
   "metadata": {
    "collapsed": true
   },
   "outputs": [],
   "source": [
    "#Name: Sydney Huppert\n",
    "#Topic: ChiPy Mentorship Fall 2017\n",
    "#Project: Tweet word frequency analysis\n",
    "\n",
    "#Part 1: Frequency of Trump's twitter words"
   ]
  },
  {
   "cell_type": "code",
   "execution_count": 16,
   "metadata": {
    "scrolled": true
   },
   "outputs": [],
   "source": [
    "import numpy as np\n",
    "import pandas as pd\n",
    "\n",
    "from nltk.corpus import stopwords\n",
    "from nltk.tokenize import TweetTokenizer\n",
    "\n",
    "years_avail = ['2009', '2010', '2011', '2012', '2013', '2014', '2015', '2016', '2017']\n",
    "file_string = '/Users/sydne/Documents/Chipy Tweets/condensed_'\n",
    "t_tokenizer = TweetTokenizer(preserve_case=False)"
   ]
  },
  {
   "cell_type": "code",
   "execution_count": 20,
   "metadata": {
    "scrolled": true
   },
   "outputs": [],
   "source": [
    "#Loop through all of the files and store the frequencies\n",
    "#time to look for words\n",
    "hits = {}\n",
    "filler_words = set(stopwords.words('english'))\n",
    "#note for later: define punctuation set\n",
    "filler_words.add('.')\n",
    "filler_words.add(',')\n",
    "filler_words.add('//')\n",
    "filler_words.add(':')\n",
    "filler_words.add('https')\n",
    "\n",
    "total_tweets = 0\n",
    "\n",
    "for year in years_avail:\n",
    "    file = file_string + year + '.json'\n",
    "    condensed_tweets = pd.read_json(file)\n",
    "    #isolate text column\n",
    "    tweet_texts = condensed_tweets['text']\n",
    "    total_tweets += len(tweet_texts)\n",
    "    for tweet in tweet_texts:\n",
    "        tweet_tokens = t_tokenizer.tokenize(tweet)\n",
    "        tweet = []\n",
    "        for w in tweet_tokens:\n",
    "            if w not in filler_words and w.find('//'):\n",
    "                if w in hits:\n",
    "                    hits[w] = hits[w] + 1\n",
    "                else:\n",
    "                    hits[w] = 1"
   ]
  },
  {
   "cell_type": "code",
   "execution_count": 18,
   "metadata": {
    "scrolled": false
   },
   "outputs": [],
   "source": [
    "import operator\n",
    "words_ordered = sorted(hits.items(), key=operator.itemgetter(1), reverse=True)\n",
    "#words_ordered\n"
   ]
  },
  {
   "cell_type": "code",
   "execution_count": 21,
   "metadata": {},
   "outputs": [
    {
     "name": "stdout",
     "output_type": "stream",
     "text": [
      "Total tweets: 31913\n"
     ]
    }
   ],
   "source": [
    "print(f\"Total tweets: {total_tweets}\")"
   ]
  },
  {
   "cell_type": "code",
   "execution_count": null,
   "metadata": {
    "collapsed": true
   },
   "outputs": [],
   "source": [
    "#Let's graph some shit!\n",
    "from bokeh.plotting import figure"
   ]
  }
 ],
 "metadata": {
  "kernelspec": {
   "display_name": "Python 3",
   "language": "python",
   "name": "python3"
  },
  "language_info": {
   "codemirror_mode": {
    "name": "ipython",
    "version": 3
   },
   "file_extension": ".py",
   "mimetype": "text/x-python",
   "name": "python",
   "nbconvert_exporter": "python",
   "pygments_lexer": "ipython3",
   "version": "3.6.1"
  }
 },
 "nbformat": 4,
 "nbformat_minor": 2
}

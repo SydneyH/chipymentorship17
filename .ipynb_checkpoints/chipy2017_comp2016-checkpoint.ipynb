{
 "cells": [
  {
   "cell_type": "code",
   "execution_count": 1,
   "metadata": {
    "collapsed": true
   },
   "outputs": [],
   "source": [
    "#Name: Sydney Huppert\n",
    "#ChiPy Mentorship Fall 2017\n",
    "#Some graphing!"
   ]
  },
  {
   "cell_type": "code",
   "execution_count": 20,
   "metadata": {
    "collapsed": true
   },
   "outputs": [],
   "source": [
    "import numpy as np\n",
    "import pandas as pd\n",
    "import os as os\n",
    "\n",
    "from nltk.corpus import stopwords\n",
    "from nltk.tokenize import TweetTokenizer\n",
    "from nltk.stem import SnowballStemmer\n",
    "\n",
    "def processTweets(file, filler_words):  \n",
    "    hits = {}\n",
    "    total_tweets = 0\n",
    "    condensed_tweets = pd.read_json(file)\n",
    "    #isolate text column\n",
    "    tweet_texts = condensed_tweets['text']\n",
    "#     total_tweets += len(tweet_texts)\n",
    "    for tweet in tweet_texts:\n",
    "        tweet_tokens = t_tokenizer.tokenize(tweet)\n",
    "        tweet_tokens = [stemmer.stem(t) for t in tweet_tokens]\n",
    "        tweet = []\n",
    "        if 'rt' not in tweet_tokens:\n",
    "            total_tweets += 1\n",
    "            for w in tweet_tokens:\n",
    "                if w not in filler_words and w.find('//') and (w.isalnum() or w.startswith('@')):\n",
    "                    if w in hits:\n",
    "                        hits[w] = hits[w] + 1\n",
    "                    else:\n",
    "                        hits[w] = 1\n",
    "    print('Hello!')\n",
    "    return total_tweets, hits\n",
    "\n",
    "#years_avail = ['2009', '2010', '2011', '2012', '2013', '2014', '2015', '2016', '2017']\n",
    "years_avail=['2016']\n",
    "file_string = '/Users/sydne/Documents/Chipy Tweets/'\n",
    "files = {\"Trump\": os.path.join(file_string, 'condensed_2016.json'), 'Clinton': os.path.join(file_string, 'hrc_2016.json')}\n",
    "t_tokenizer = TweetTokenizer(preserve_case=False)\n",
    "stemmer = SnowballStemmer('english')"
   ]
  },
  {
   "cell_type": "code",
   "execution_count": 21,
   "metadata": {},
   "outputs": [
    {
     "name": "stdout",
     "output_type": "stream",
     "text": [
      "Hello!\n",
      "Hello!\n",
      "Trump (Total: 4036): [('thank', 671), ('great', 608), ('hillari', 479), ('trump', 416), ('@realdonaldtrump', 333), ('clinton', 306), ('america', 286), ('make', 284), ('peopl', 281), ('get', 256), ('vote', 246), ('crook', 236), ('new', 233), ('go', 210), ('veri', 201), ('cruz', 196), ('poll', 179), ('join', 177), ('support', 177), ('watch', 174), ('job', 167), ('presid', 166), ('time', 164), ('big', 159), ('today', 151), ('win', 148), ('bad', 144), ('want', 140), ('like', 139), ('tonight', 135), ('never', 131), ('state', 130), ('ted', 129), ('total', 128), ('would', 128), ('say', 127), ('one', 127), ('countri', 127), ('look', 126), ('mani', 125), ('onli', 117), ('tomorrow', 116), ('let', 113), ('campaign', 110), ('back', 108), ('enjoy', 107), ('interview', 106), ('american', 105), ('fail', 104), ('u', 103), ('last', 103), ('show', 103), ('media', 102), ('even', 102), ('said', 101), ('night', 99), ('@cnn', 97), ('@foxnew', 97), ('love', 96), ('ralli', 94), ('see', 94), ('obama', 92), ('much', 91), ('crowd', 90), ('us', 89), ('ohio', 89), ('year', 88), ('florida', 88), ('iowa', 88), ('million', 87), ('whi', 87), ('debat', 86), ('day', 86), ('speech', 86), ('carolina', 84), ('wow', 83), ('amaz', 81), ('republican', 80), ('way', 79), ('endors', 79), ('good', 78), ('work', 78), ('lie', 78), ('elect', 77), ('call', 77), ('run', 77), ('rubio', 77), ('donald', 76), ('berni', 76), ('know', 75), ('nation', 72), ('take', 69), ('soon', 69), ('ad', 69), ('report', 68), ('must', 67), ('need', 66), ('deal', 65), ('interest', 65), ('talk', 63), ('morn', 63), ('wonder', 62), ('dishonest', 62), ('becaus', 62), ('realli', 62), ('senat', 62), ('ticket', 60), ('hampshir', 60), ('@nytim', 60), ('candid', 59), ('voter', 57), ('togeth', 57), ('women', 56), ('got', 56), ('news', 55), ('@megynkelli', 55), ('hard', 54), ('done', 54), ('pennsylvania', 54), ('made', 54), ('believ', 54), ('stop', 53), ('rate', 53), ('w', 53), ('beat', 53), ('use', 51), ('come', 51), ('noth', 51), ('special', 51), ('meet', 50), ('movement', 50), ('stori', 50), ('sad', 49), ('think', 49), ('thing', 49), ('nice', 49), ('south', 49), ('york', 49), ('jeb', 49), ('money', 48), ('right', 48), ('isi', 48), ('chang', 48), ('honor', 48), ('happen', 48), ('border', 48), ('video', 48), ('put', 48), ('c', 47), ('bill', 47), ('safe', 47), ('first', 47), ('live', 46), ('rig', 46), ('two', 45), ('everyon', 45), ('p', 45), ('keep', 45), ('anoth', 45), ('presidenti', 45), ('attack', 44), ('massiv', 44), ('north', 44), ('ever', 44), ('tax', 44), ('sander', 44), ('world', 42), ('better', 42), ('well', 42), ('indiana', 42), ('marco', 42), ('fight', 41), ('record', 41), ('lost', 40), ('person', 40), ('illeg', 40), ('parti', 40), ('famili', 40), ('wall', 40), ('immigr', 40), ('email', 40), ('tri', 39), ('offic', 39), ('word', 39), ('help', 39), ('rememb', 39), ('nevada', 39), ('unit', 38), ('leav', 38), ('far', 38), ('pm', 38), ('virginia', 38), ('democrat', 38), ('disast', 38), ('lyin', 38), ('strong', 37), ('kill', 37), ('head', 37), ('number', 37), ('law', 37), ('forward', 37), ('hit', 37), ('kasich', 37), ('system', 37), ('weak', 37), ('allow', 36), ('bring', 36), ('wisconsin', 36), ('john', 36), ('colorado', 36), ('arizona', 36), ('politician', 36), ('hope', 35), ('lead', 35), ('@hillaryclinton', 35), ('doe', 35), ('@foxandfriend', 35), ('gave', 34), ('dem', 34), ('bias', 34), ('fox', 34), ('polit', 34), ('littl', 34), ('primari', 34), ('best', 33), ('yesterday', 33), ('true', 33), ('ask', 33), ('guy', 33), ('terribl', 33), ('histori', 33), ('high', 33), ('phoni', 33), ('washington', 32), ('spend', 32), ('fact', 32), ('@mike_p', 32), ('terror', 32), ('announc', 32), ('major', 32), ('governor', 32), ('statement', 31), ('start', 31), ('polici', 31), ('fals', 31), ('proud', 31), ('@oreillyfactor', 31), ('gop', 31), ('happi', 30), ('busi', 30)]\n",
      "Clinton (Total: 4896): [('â', 2392), ('hillari', 1265), ('trump', 1029), ('donald', 483), ('make', 460), ('presid', 437), ('vote', 338), ('american', 335), ('need', 328), ('famili', 312), ('america', 308), ('peopl', 293), ('go', 285), ('one', 268), ('get', 260), ('right', 243), ('women', 239), ('us', 236), ('work', 229), ('h', 228), ('@potus', 222), ('let', 216), ('day', 215), ('live', 210), ('say', 207), ('countri', 200), ('want', 199), ('everi', 198), ('elect', 182), ('weâ', 177), ('like', 169), ('know', 168), ('year', 167), ('time', 165), ('help', 162), ('togeth', 161), ('plan', 159), ('take', 154), ('would', 153), ('million', 152), ('fight', 151), ('campaign', 148), ('itâ', 147), ('today', 139), ('stand', 135), ('back', 133), ('new', 132), ('thing', 131), ('watch', 130), ('never', 122), ('pay', 120), ('thank', 119), ('first', 119), ('republican', 116), ('care', 116), ('tax', 115), ('clinton', 113), ('gun', 113), ('support', 112), ('job', 109), ('great', 108), ('win', 106), ('build', 105), ('candid', 105), ('kid', 105), ('believ', 104), ('state', 103), ('got', 103), ('sure', 103), ('good', 102), ('love', 99), ('@realdonaldtrump', 98), ('onli', 97), ('way', 97), ('last', 96), ('@flotus', 96), ('everyon', 93), ('deserv', 93), ('progress', 92), ('keep', 91), ('better', 88), ('health', 87), ('world', 85), ('becaus', 85), ('iâ', 84), ('whi', 84), ('see', 84), ('violenc', 84), ('de', 84), ('next', 83), ('made', 82), ('matter', 82), ('equal', 82), ('call', 81), ('join', 81), ('think', 81), ('economi', 81), ('look', 80), ('woman', 80), ('talk', 79), ('come', 77), ('donâ', 77), ('afford', 77), ('stop', 76), ('give', 76), ('run', 76), ('busi', 76), ('canâ', 75), ('real', 75), ('mani', 75), ('youâ', 74), ('immigr', 74), ('white', 74), ('much', 73), ('ever', 72), ('nation', 72), ('colleg', 71), ('justic', 71), ('best', 70), ('chang', 70), ('life', 69), ('man', 69), ('unit', 69), ('hate', 68), ('proud', 67), ('tell', 66), ('still', 66), ('letâ', 66), ('said', 66), ('heâ', 66), ('@timkain', 66), ('friend', 65), ('hous', 65), ('student', 65), ('could', 64), ('night', 63), ('ani', 62), ('alway', 61), ('happen', 61), ('even', 60), ('kind', 60), ('@billclinton', 60), ('la', 60), ('tonight', 59), ('place', 59), ('ask', 59), ('protect', 59), ('polici', 59), ('wrong', 59), ('futur', 58), ('hard', 58), ('break', 57), ('put', 56), ('befor', 56), ('histori', 56), ('penc', 56), ('que', 56), ('rais', 55), ('lgbt', 55), ('stronger', 54), ('person', 54), ('show', 54), ('anyon', 54), ('child', 54), ('start', 53), ('everyth', 53), ('wall', 53), ('offic', 53), ('chip', 53), ('hillaryâ', 52), ('democrat', 52), ('debat', 52), ('face', 51), ('thatâ', 51), ('paid', 51), ('attack', 51), ('debt', 50), ('children', 50), ('big', 50), ('tri', 50), ('share', 49), ('trumpâ', 49), ('end', 49), ('home', 49), ('speak', 49), ('œi', 48), ('readi', 48), ('realli', 48), ('respect', 48), ('done', 48), ('system', 48), ('chanc', 47), ('turn', 47), ('heart', 46), ('someon', 46), ('hold', 46), ('lot', 46), ('find', 46), ('wage', 46), ('flint', 46), ('barrier', 46), ('el', 46), ('lead', 45), ('fear', 45), ('choic', 45), ('text', 45), ('week', 45), ('danger', 45), ('nomin', 45), ('part', 44), ('act', 44), ('word', 44), ('law', 43), ('communiti', 43), ('becom', 43), ('also', 43), ('worker', 43), ('hope', 42), ('school', 42), ('muslim', 42), ('agre', 42), ('doesnâ', 42), ('left', 42), ('strong', 42), ('actual', 42), ('mike', 42), ('safe', 41), ('power', 41), ('obama', 41), ('climat', 41), ('leader', 41), ('public', 41), ('47246', 41), ('hear', 41), ('endors', 41), ('cut', 41), ('âœ', 41), ('honor', 40), ('question', 40), ('clear', 40), ('trail', 40), ('para', 40), ('young', 39), ('voter', 39), ('black', 39), ('save', 39), ('poll', 38), ('someth', 38), ('iowa', 38), ('issu', 38)]\n"
     ]
    }
   ],
   "source": [
    "#Loop through all of the files and store the frequencies\n",
    "#time to look for words\n",
    "filler_words = set(stopwords.words('english'))\n",
    "#note for later: define punctuation set\n",
    "filler_words.add('.')\n",
    "filler_words.add(',')\n",
    "filler_words.add('//')\n",
    "filler_words.add(':')\n",
    "filler_words.add('https')\n",
    "tweet_data = {name: processTweets(file, filler_words) for name, file in files.items()}\n",
    "compare = {}\n",
    "\n",
    "import operator\n",
    "for name, (total_tweets, data) in tweet_data.items():\n",
    "    words_ordered = sorted(data.items(), key=operator.itemgetter(1), reverse=True)\n",
    "    compare[name] = list(words_ordered)[:250]\n",
    "    print(\"%s (Total: %s): %s\" % (name, total_tweets, list(words_ordered)[:250]))\n"
   ]
  },
  {
   "cell_type": "code",
   "execution_count": 22,
   "metadata": {},
   "outputs": [
    {
     "name": "stdout",
     "output_type": "stream",
     "text": [
      "{'start', 'lead', 'mani', 'campaign', 'way', 'hard', 'person', 'make', 'even', 'win', 'best', 'law', 'busi', 'onli', 'histori', 'hope', 'obama', 'let', 'word', 'democrat', 'said', 'never', 'proud', 'think', 'time', 'year', 'look', 'stop', 'much', 'realli', 'safe', 'want', 'countri', 'candid', 'help', 'put', 'work', 'ever', 'need', 'hillari', 'chang', 'love', 'iowa', 'togeth', 'honor', 'immigr', 'know', 'support', 'last', 'call', 'talk', 'clinton', 'take', 'would', 'ask', 'got', 'vote', 'back', 'keep', 'first', 'nation', 'unit', 'strong', 'whi', 'day', 'one', 'famili', 'right', 'watch', 'tri', '@realdonaldtrump', 'show', 'fight', 'believ', 'like', 'america', 'becaus', 'new', 'women', 'made', 'world', 'poll', 'attack', 'done', 'us', 'good', 'debat', 'presid', 'peopl', 'wall', 'today', 'elect', 'night', 'big', 'come', 'run', 'polici', 'offic', 'go', 'see', 'better', 'great', 'tax', 'voter', 'system', 'get', 'american', 'endors', 'state', 'happen', 'thank', 'say', 'join', 'thing', 'million', 'donald', 'everyon', 'job', 'trump', 'tonight', 'republican', 'live'}\n"
     ]
    }
   ],
   "source": [
    "overlap_data = {name: [i[0] for i in tweet_data] for name, tweet_data in compare.items()}\n",
    "overlap_comp = set(overlap_data['Trump']).intersection(set(overlap_data['Clinton']))\n",
    "print(overlap_comp)"
   ]
  },
  {
   "cell_type": "code",
   "execution_count": null,
   "metadata": {
    "collapsed": true
   },
   "outputs": [],
   "source": []
  }
 ],
 "metadata": {
  "kernelspec": {
   "display_name": "Python 3",
   "language": "python",
   "name": "python3"
  },
  "language_info": {
   "codemirror_mode": {
    "name": "ipython",
    "version": 3
   },
   "file_extension": ".py",
   "mimetype": "text/x-python",
   "name": "python",
   "nbconvert_exporter": "python",
   "pygments_lexer": "ipython3",
   "version": "3.6.1"
  }
 },
 "nbformat": 4,
 "nbformat_minor": 2
}
